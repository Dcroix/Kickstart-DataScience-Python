{
 "cells": [
  {
   "cell_type": "markdown",
   "id": "b1d3acc4-2e58-4c16-ba0d-fa59c1269830",
   "metadata": {
    "deletable": false,
    "editable": false
   },
   "source": [
    "# <font face = 'Impact' color = '#FFAEBC' > Loading, Organizing, and Storing Data One <font/>\n",
    "#### <font face = 'Times New Roman' color = '#B5E5CF'> Trainer: Paolo Hilado MSc. (Data Science)<font/>\n",
    "In this section, we focus on importing, structuring, and saving data using Python. We'll use the pandas library along with base Python functions to load data from common file formats such as CSV and Excel. Once the data is loaded into pandas DataFrames, we’ll explore basic techniques to organize and inspect the data—such as viewing column names, checking data types, and handling missing values. Finally, we’ll learn how to store the cleaned and structured data back into files for future use."
   ]
  },
  {
   "cell_type": "code",
   "execution_count": null,
   "id": "8b7bcbaa-ee2c-4c9a-83db-35927de40f8a",
   "metadata": {},
   "outputs": [],
   "source": [
    "# Import the necessary libraries\n",
    "import pandas as pd\n",
    "import numpy as np\n",
    "import os"
   ]
  },
  {
   "cell_type": "code",
   "execution_count": null,
   "id": "23711b66-6faf-4473-baa1-0938657fcad4",
   "metadata": {},
   "outputs": [],
   "source": [
    "# Checking out the current working directory\n",
    "print(os.getcwd())"
   ]
  },
  {
   "cell_type": "code",
   "execution_count": null,
   "id": "8b432e2b-413d-4db5-9cc5-8877d4995ee5",
   "metadata": {},
   "outputs": [],
   "source": [
    "#Loading a spreadsheet and assigning it to a variable\n",
    "#We will open and work on \"ExperimentOne.xlsx\"\n",
    "df = pd.read_excel(\"ExperimentOne.xlsx\")"
   ]
  },
  {
   "cell_type": "code",
   "execution_count": null,
   "id": "607c6847-dd0a-465a-8908-f12029738161",
   "metadata": {},
   "outputs": [],
   "source": [
    "#Viewing the dataframe\n",
    "df"
   ]
  },
  {
   "cell_type": "code",
   "execution_count": null,
   "id": "c22ea3d5-27c8-40cb-992b-a5bf98ac140c",
   "metadata": {},
   "outputs": [],
   "source": [
    "# Viewing the first rows\n",
    "df.head(10)"
   ]
  },
  {
   "cell_type": "code",
   "execution_count": null,
   "id": "2cd70bba-d557-4e4c-9d76-8661e3f878d2",
   "metadata": {},
   "outputs": [],
   "source": [
    "# Viewing the last rows\n",
    "df.tail(10)"
   ]
  },
  {
   "cell_type": "code",
   "execution_count": null,
   "id": "416eed83-8425-4bb0-b8b1-6c98b7842e7a",
   "metadata": {},
   "outputs": [],
   "source": [
    "# Viewing all rows\n",
    "pd.set_option('display.max_rows', None)"
   ]
  },
  {
   "cell_type": "code",
   "execution_count": null,
   "id": "59109f1e-e8eb-4b74-83bd-0053fd663ebc",
   "metadata": {},
   "outputs": [],
   "source": [
    "# to reset this\n",
    "pd.reset_option('display.max_rows')"
   ]
  },
  {
   "cell_type": "code",
   "execution_count": null,
   "id": "b0a2cf23-583d-4803-b858-cc520728a449",
   "metadata": {},
   "outputs": [],
   "source": [
    "#Slicing the dataframe\n",
    "df[\"Post\"] # Slicing column approach 1\n",
    "df.Post # Slicing a column approach 2"
   ]
  },
  {
   "cell_type": "code",
   "execution_count": null,
   "id": "1ec30149-e9ea-464c-92e3-aeaa3f2942e7",
   "metadata": {},
   "outputs": [],
   "source": [
    "# All rows of first column\n",
    "subset = df.iloc[:,0]\n",
    "subset"
   ]
  },
  {
   "cell_type": "code",
   "execution_count": null,
   "id": "ea04db01-fbac-43f1-9443-989adf7ec3ae",
   "metadata": {},
   "outputs": [],
   "source": [
    "# Presenting 49 rows of 1st and 3rd Column\n",
    "newsub = df.iloc[:49, [0,2]]\n",
    "newsub"
   ]
  },
  {
   "cell_type": "code",
   "execution_count": null,
   "id": "0a4d56a9-bd44-419d-9343-3712ca3ed0fa",
   "metadata": {},
   "outputs": [],
   "source": [
    "# Presenting rows 5,6,50,57 for all columns\n",
    "nsub = df.iloc[[5,6,50,57], :]\n",
    "nsub"
   ]
  },
  {
   "cell_type": "code",
   "execution_count": null,
   "id": "1d70ccc1-e30a-4eb1-b5ba-42836ef3d7f3",
   "metadata": {},
   "outputs": [],
   "source": [
    "# Presenting rows 10 to 19 of first column\n",
    "eg = df.iloc[10:19, 1]\n",
    "eg"
   ]
  },
  {
   "cell_type": "code",
   "execution_count": null,
   "id": "e7fa4437-14ba-42c9-a65a-5a3f53c63ee7",
   "metadata": {},
   "outputs": [],
   "source": [
    "#Checking the structure of the dataframe\n",
    "df.info()"
   ]
  },
  {
   "cell_type": "code",
   "execution_count": null,
   "id": "8de9992d-55a8-43eb-b946-872a9d5f8c29",
   "metadata": {},
   "outputs": [],
   "source": [
    "#Checking for NAs or missing cases for the data set\n",
    "df.isnull().values.any()"
   ]
  },
  {
   "cell_type": "code",
   "execution_count": null,
   "id": "b8f003dc-c76e-47f3-93b7-671368ecec83",
   "metadata": {},
   "outputs": [],
   "source": [
    "# Check for NAs per column\n",
    "df.isnull().any()"
   ]
  },
  {
   "cell_type": "code",
   "execution_count": null,
   "id": "a67fc33c-54ab-43aa-9505-19054aac8a36",
   "metadata": {},
   "outputs": [],
   "source": [
    "#Getting a simple descriptives\n",
    "df.iloc[:, 1].describe() #works with post test measures\n",
    "# desc = df[\"Post\"].describe()"
   ]
  },
  {
   "cell_type": "code",
   "execution_count": null,
   "id": "422106b1-6415-4374-ab28-45f2f351e28a",
   "metadata": {},
   "outputs": [],
   "source": [
    "# Descriptive for categorical variable\n",
    "ndesc = df[\"Group\"].describe()\n",
    "# df[\"Group\"].unique()\n",
    "ndesc"
   ]
  }
 ],
 "metadata": {
  "kernelspec": {
   "display_name": "Python 3 (ipykernel)",
   "language": "python",
   "name": "python3"
  },
  "language_info": {
   "codemirror_mode": {
    "name": "ipython",
    "version": 3
   },
   "file_extension": ".py",
   "mimetype": "text/x-python",
   "name": "python",
   "nbconvert_exporter": "python",
   "pygments_lexer": "ipython3",
   "version": "3.12.7"
  }
 },
 "nbformat": 4,
 "nbformat_minor": 5
}
